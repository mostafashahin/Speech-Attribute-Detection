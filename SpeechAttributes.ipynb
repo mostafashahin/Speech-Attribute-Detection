{
  "nbformat": 4,
  "nbformat_minor": 0,
  "metadata": {
    "colab": {
      "name": "SpeechAttributes.ipynb",
      "provenance": [],
      "authorship_tag": "ABX9TyOU1bAagOEc1fWB3eqOIDl6",
      "include_colab_link": true
    },
    "kernelspec": {
      "name": "python3",
      "display_name": "Python 3"
    }
  },
  "cells": [
    {
      "cell_type": "markdown",
      "metadata": {
        "id": "view-in-github",
        "colab_type": "text"
      },
      "source": [
        "<a href=\"https://colab.research.google.com/github/mostafashahin/Speech-Attribute-Detection/blob/main/SpeechAttributes.ipynb\" target=\"_parent\"><img src=\"https://colab.research.google.com/assets/colab-badge.svg\" alt=\"Open In Colab\"/></a>"
      ]
    },
    {
      "cell_type": "code",
      "metadata": {
        "id": "X8khT-cNF0gw",
        "outputId": "43e4531d-591c-4506-c158-e1cc0071f1c2",
        "colab": {
          "base_uri": "https://localhost:8080/",
          "height": 35
        }
      },
      "source": [
        "from google.colab import drive\n",
        "drive.mount('/content/gdrive')"
      ],
      "execution_count": 1,
      "outputs": [
        {
          "output_type": "stream",
          "text": [
            "Mounted at /content/gdrive\n"
          ],
          "name": "stdout"
        }
      ]
    },
    {
      "cell_type": "code",
      "metadata": {
        "id": "DelVZXFqGNnR",
        "outputId": "b6d654b3-ca20-458f-de8a-721957796ac5",
        "colab": {
          "base_uri": "https://localhost:8080/",
          "height": 35
        }
      },
      "source": [
        "cd /content/gdrive/My\\ Drive/PhD/SpeechAttributes/Speech-Attribute-Detection/"
      ],
      "execution_count": 6,
      "outputs": [
        {
          "output_type": "stream",
          "text": [
            "/content/gdrive/My Drive/PhD/SpeechAttributes/Speech-Attribute-Detection\n"
          ],
          "name": "stdout"
        }
      ]
    },
    {
      "cell_type": "code",
      "metadata": {
        "id": "cZwlvdR--oZn",
        "outputId": "6e7f96ec-1b23-4a51-d291-9082f4370ff1",
        "colab": {
          "base_uri": "https://localhost:8080/",
          "height": 139
        }
      },
      "source": [
        "!git clone https://github.com/mostafashahin/Speech-Attribute-Detection.git"
      ],
      "execution_count": 8,
      "outputs": [
        {
          "output_type": "stream",
          "text": [
            "Cloning into 'Speech-Attribute-Detection'...\n",
            "remote: Enumerating objects: 18, done.\u001b[K\n",
            "remote: Counting objects: 100% (18/18), done.\u001b[K\n",
            "remote: Compressing objects: 100% (18/18), done.\u001b[K\n",
            "remote: Total 57 (delta 3), reused 10 (delta 0), pack-reused 39\u001b[K\n",
            "Unpacking objects: 100% (57/57), done.\n",
            "Checking out files: 100% (44/44), done.\n"
          ],
          "name": "stdout"
        }
      ]
    },
    {
      "cell_type": "code",
      "metadata": {
        "id": "wf4PjBmeMyyz",
        "outputId": "9ef9c6f0-7e8a-4727-eae4-e661c91fc0fd",
        "colab": {
          "base_uri": "https://localhost:8080/",
          "height": 225
        }
      },
      "source": [
        "!git pull"
      ],
      "execution_count": 23,
      "outputs": [
        {
          "output_type": "stream",
          "text": [
            "remote: Enumerating objects: 7, done.\u001b[K\n",
            "remote: Counting objects:  14% (1/7)\u001b[K\rremote: Counting objects:  28% (2/7)\u001b[K\rremote: Counting objects:  42% (3/7)\u001b[K\rremote: Counting objects:  57% (4/7)\u001b[K\rremote: Counting objects:  71% (5/7)\u001b[K\rremote: Counting objects:  85% (6/7)\u001b[K\rremote: Counting objects: 100% (7/7)\u001b[K\rremote: Counting objects: 100% (7/7), done.\u001b[K\n",
            "remote: Compressing objects:  33% (1/3)\u001b[K\rremote: Compressing objects:  66% (2/3)\u001b[K\rremote: Compressing objects: 100% (3/3)\u001b[K\rremote: Compressing objects: 100% (3/3), done.\u001b[K\n",
            "remote: Total 5 (delta 2), reused 5 (delta 2), pack-reused 0\u001b[K\n",
            "Unpacking objects:  20% (1/5)   \rUnpacking objects:  40% (2/5)   \rUnpacking objects:  60% (3/5)   \rUnpacking objects:  80% (4/5)   \rUnpacking objects: 100% (5/5)   \rUnpacking objects: 100% (5/5), done.\n",
            "From https://github.com/mostafashahin/Speech-Attribute-Detection\n",
            "   d27c791..0117d00  main       -> origin/main\n",
            "Updating d27c791..0117d00\n",
            "Fast-forward\n",
            " phones.txt | 226 \u001b[32m+++++++++++++++++++++++++++++++++++++++++++++++++++++++++++++\u001b[m\n",
            " 1 file changed, 226 insertions(+)\n",
            " create mode 100644 phones.txt\n"
          ],
          "name": "stdout"
        }
      ]
    },
    {
      "cell_type": "code",
      "metadata": {
        "id": "iFCS43WO_aDe"
      },
      "source": [
        "import numpy as np\n",
        "import gzip\n",
        "import pandas as pd\n",
        "from os.path import join"
      ],
      "execution_count": 3,
      "outputs": []
    },
    {
      "cell_type": "markdown",
      "metadata": {
        "id": "NatH__AiJeES"
      },
      "source": [
        "## Data Stats"
      ]
    },
    {
      "cell_type": "code",
      "metadata": {
        "id": "gafQfhdHK4xr"
      },
      "source": [
        "# Load phones.txt file\n",
        "sPhonesFile = \"phones.txt\"\n",
        "phones = pd.read_csv('phones.txt',sep=' ',names=['PhoneSymb','PhoneIndx'])"
      ],
      "execution_count": 8,
      "outputs": []
    },
    {
      "cell_type": "code",
      "metadata": {
        "id": "ERWg5ItqSWbL"
      },
      "source": [
        "def getPhone(sPhonPosition):\n",
        "  return sPhonPosition.split('_')[0]"
      ],
      "execution_count": 9,
      "outputs": []
    },
    {
      "cell_type": "code",
      "metadata": {
        "id": "odE3CsxTJMIc",
        "outputId": "fa1ce44d-b9e3-42aa-b551-250145893917",
        "colab": {
          "base_uri": "https://localhost:8080/",
          "height": 351
        }
      },
      "source": [
        "# OGI Data\n",
        "sDataFile='ogi.ctm.gz'\n",
        "dfCTM = pd.read_csv(join('ali_data',sDataFile),sep=' ',names=['fileID','Channel','StartTime','Duration','PhoneIndx'],compression='gzip')\n",
        "dfPhone = dfCTM.groupby(by=['PhoneIndx'],as_index=False).sum()[['Duration','PhoneIndx']]\n",
        "dfPhone = dfPhone.merge(phones,how='left',on='PhoneIndx')\n",
        "#Exclude sil\n",
        "dfPhone.drop(dfPhone.index[dfPhone['PhoneSymb'].str.contains('sil|unk|hes|laughs')],inplace=True)\n",
        "#Add Column for phoneme symbole without position\n",
        "dfPhone['Phone'] = np.vectorize(getPhone)(dfPhone['PhoneSymb'])\n",
        "#Add N# Frames Column\n",
        "dfPhone['Frames'] = dfPhone['Duration']*100\n",
        "dfPhone_NoPos = dfPhone.groupby(by='Phone',as_index=False).sum()\n",
        "dfPhone_NoPos.plot.bar(x='Phone',y='Frames',figsize=(20,5))"
      ],
      "execution_count": 30,
      "outputs": [
        {
          "output_type": "execute_result",
          "data": {
            "text/plain": [
              "<matplotlib.axes._subplots.AxesSubplot at 0x7f7fbcd284e0>"
            ]
          },
          "metadata": {
            "tags": []
          },
          "execution_count": 30
        },
        {
          "output_type": "display_data",
          "data": {
            "image/png": "[encoded data removed]",
            "text/plain": [
              "<Figure size 1440x360 with 1 Axes>"
            ]
          },
          "metadata": {
            "tags": [],
            "needs_background": "light"
          }
        }
      ]
    },
    {
      "cell_type": "code",
      "metadata": {
        "id": "b4BG4PeRJu7A",
        "outputId": "2fd0bd0b-fef3-4322-8c9e-e302efa87374",
        "colab": {
          "base_uri": "https://localhost:8080/",
          "height": 351
        }
      },
      "source": [
        "# cu Data\n",
        "sDataFile='cu.ctm.gz'\n",
        "dfCTM = pd.read_csv(join('ali_data',sDataFile),sep=' ',names=['fileID','Channel','StartTime','Duration','PhoneIndx'],compression='gzip')\n",
        "dfPhone = dfCTM.groupby(by=['PhoneIndx'],as_index=False).sum()[['Duration','PhoneIndx']]\n",
        "dfPhone = dfPhone.merge(phones,how='left',on='PhoneIndx')\n",
        "#Exclude sil\n",
        "dfPhone.drop(dfPhone.index[dfPhone['PhoneSymb'].str.contains('sil|unk|hes|laughs')],inplace=True)\n",
        "#Add Column for phoneme symbole without position\n",
        "dfPhone['Phone'] = np.vectorize(getPhone)(dfPhone['PhoneSymb'])\n",
        "#Add N# Frames Column\n",
        "dfPhone['Frames'] = dfPhone['Duration']*100\n",
        "dfPhone_NoPos = dfPhone.groupby(by='Phone',as_index=False).sum()\n",
        "dfPhone_NoPos.plot.bar(x='Phone',y='Frames',figsize=(20,5))"
      ],
      "execution_count": 31,
      "outputs": [
        {
          "output_type": "execute_result",
          "data": {
            "text/plain": [
              "<matplotlib.axes._subplots.AxesSubplot at 0x7f7fb3544400>"
            ]
          },
          "metadata": {
            "tags": []
          },
          "execution_count": 31
        },
        {
          "output_type": "display_data",
          "data": {
            "image/png": "[encoded data removed]",
            "text/plain": [
              "<Figure size 1440x360 with 1 Axes>"
            ]
          },
          "metadata": {
            "tags": [],
            "needs_background": "light"
          }
        }
      ]
    },
    {
      "cell_type": "code",
      "metadata": {
        "id": "_eu_d42-Kx1u",
        "outputId": "251c7bd4-6af6-40c4-87df-8368f7999e96",
        "colab": {
          "base_uri": "https://localhost:8080/",
          "height": 354
        }
      },
      "source": [
        "# cmu Data\n",
        "sDataFile='cmu.ctm.gz'\n",
        "dfCTM = pd.read_csv(join('ali_data',sDataFile),sep=' ',names=['fileID','Channel','StartTime','Duration','PhoneIndx'],compression='gzip')\n",
        "dfPhone = dfCTM.groupby(by=['PhoneIndx'],as_index=False).sum()[['Duration','PhoneIndx']]\n",
        "dfPhone = dfPhone.merge(phones,how='left',on='PhoneIndx')\n",
        "#Exclude sil\n",
        "dfPhone.drop(dfPhone.index[dfPhone['PhoneSymb'].str.contains('sil|unk|hes|laughs')],inplace=True)\n",
        "#Add Column for phoneme symbole without position\n",
        "dfPhone['Phone'] = np.vectorize(getPhone)(dfPhone['PhoneSymb'])\n",
        "#Add N# Frames Column\n",
        "dfPhone['Frames'] = dfPhone['Duration']*100\n",
        "dfPhone_NoPos = dfPhone.groupby(by='Phone',as_index=False).sum()\n",
        "dfPhone_NoPos.plot.bar(x='Phone',y='Frames',figsize=(20,5))"
      ],
      "execution_count": 32,
      "outputs": [
        {
          "output_type": "execute_result",
          "data": {
            "text/plain": [
              "<matplotlib.axes._subplots.AxesSubplot at 0x7f7fb35f7cf8>"
            ]
          },
          "metadata": {
            "tags": []
          },
          "execution_count": 32
        },
        {
          "output_type": "display_data",
          "data": {
            "image/png": "[encoded data removed]",
            "text/plain": [
              "<Figure size 1440x360 with 1 Axes>"
            ]
          },
          "metadata": {
            "tags": [],
            "needs_background": "light"
          }
        }
      ]
    },
    {
      "cell_type": "code",
      "metadata": {
        "id": "ZCRAJSPqYvf5",
        "outputId": "1fe354ed-eea9-40d7-9192-1cfa14b6bc56",
        "colab": {
          "base_uri": "https://localhost:8080/",
          "height": 379
        }
      },
      "source": [
        "# myst Data\n",
        "sDataFile='myst.ctm.gz'\n",
        "dfCTM = pd.read_csv(join('ali_data',sDataFile),sep=' ',names=['fileID','Channel','StartTime','Duration','PhoneIndx'],compression='gzip')\n",
        "dfPhone = dfCTM.groupby(by=['PhoneIndx'],as_index=False).sum()[['Duration','PhoneIndx']]\n",
        "dfPhone = dfPhone.merge(phones,how='left',on='PhoneIndx')\n",
        "#Exclude sil\n",
        "dfPhone.drop(dfPhone.index[dfPhone['PhoneSymb'].str.contains('sil|unk|hes|laughs')],inplace=True)\n",
        "#Add Column for phoneme symbole without position\n",
        "dfPhone['Phone'] = np.vectorize(getPhone)(dfPhone['PhoneSymb'])\n",
        "#Add N# Frames Column\n",
        "dfPhone['Frames'] = dfPhone['Duration']*100\n",
        "dfPhone_NoPos = dfPhone.groupby(by='Phone',as_index=False).sum()\n",
        "dfPhone_NoPos.plot.bar(x='Phone',y='Frames',figsize=(20,5))"
      ],
      "execution_count": 33,
      "outputs": [
        {
          "output_type": "execute_result",
          "data": {
            "text/plain": [
              "<matplotlib.axes._subplots.AxesSubplot at 0x7f7fb36c0588>"
            ]
          },
          "metadata": {
            "tags": []
          },
          "execution_count": 33
        },
        {
          "output_type": "display_data",
          "data": {
            "image/png": "[encoded data removed]",
            "text/plain": [
              "<Figure size 1440x360 with 1 Axes>"
            ]
          },
          "metadata": {
            "tags": [],
            "needs_background": "light"
          }
        }
      ]
    },
    {
      "cell_type": "code",
      "metadata": {
        "id": "_yoNFhdVZGyO",
        "outputId": "9bfe4664-0577-4642-c347-83fc96962d44",
        "colab": {
          "base_uri": "https://localhost:8080/",
          "height": 288
        }
      },
      "source": [
        ""
      ],
      "execution_count": 19,
      "outputs": [
        {
          "output_type": "error",
          "ename": "ValueError",
          "evalue": "ignored",
          "traceback": [
            "\u001b[0;31m---------------------------------------------------------------------------\u001b[0m",
            "\u001b[0;31mValueError\u001b[0m                                Traceback (most recent call last)",
            "\u001b[0;32m<ipython-input-19-f6d5d1243dc3>\u001b[0m in \u001b[0;36m<module>\u001b[0;34m()\u001b[0m\n\u001b[0;32m----> 1\u001b[0;31m \u001b[0mdfPhone\u001b[0m\u001b[0;34m.\u001b[0m\u001b[0mindex\u001b[0m\u001b[0;34m[\u001b[0m\u001b[0mdfPhone\u001b[0m\u001b[0;34m[\u001b[0m\u001b[0;34m'PhoneSymb'\u001b[0m\u001b[0;34m]\u001b[0m \u001b[0;32min\u001b[0m \u001b[0;34m[\u001b[0m\u001b[0;34m'sil'\u001b[0m\u001b[0;34m]\u001b[0m\u001b[0;34m]\u001b[0m\u001b[0;34m\u001b[0m\u001b[0;34m\u001b[0m\u001b[0m\n\u001b[0m",
            "\u001b[0;32m/usr/local/lib/python3.6/dist-packages/pandas/core/generic.py\u001b[0m in \u001b[0;36m__nonzero__\u001b[0;34m(self)\u001b[0m\n\u001b[1;32m   1325\u001b[0m     \u001b[0;32mdef\u001b[0m \u001b[0m__nonzero__\u001b[0m\u001b[0;34m(\u001b[0m\u001b[0mself\u001b[0m\u001b[0;34m)\u001b[0m\u001b[0;34m:\u001b[0m\u001b[0;34m\u001b[0m\u001b[0;34m\u001b[0m\u001b[0m\n\u001b[1;32m   1326\u001b[0m         raise ValueError(\n\u001b[0;32m-> 1327\u001b[0;31m             \u001b[0;34mf\"The truth value of a {type(self).__name__} is ambiguous. \"\u001b[0m\u001b[0;34m\u001b[0m\u001b[0;34m\u001b[0m\u001b[0m\n\u001b[0m\u001b[1;32m   1328\u001b[0m             \u001b[0;34m\"Use a.empty, a.bool(), a.item(), a.any() or a.all().\"\u001b[0m\u001b[0;34m\u001b[0m\u001b[0;34m\u001b[0m\u001b[0m\n\u001b[1;32m   1329\u001b[0m         )\n",
            "\u001b[0;31mValueError\u001b[0m: The truth value of a Series is ambiguous. Use a.empty, a.bool(), a.item(), a.any() or a.all()."
          ]
        }
      ]
    },
    {
      "cell_type": "code",
      "metadata": {
        "id": "F20ectoBZHkL",
        "outputId": "e5ed79c2-2f5f-4b33-a3ef-25f8920bdd71",
        "colab": {
          "base_uri": "https://localhost:8080/",
          "height": 35
        }
      },
      "source": [
        "dfPhone.index[dfPhone['PhoneSymb'].str.contains('sil|unk')]"
      ],
      "execution_count": 28,
      "outputs": [
        {
          "output_type": "execute_result",
          "data": {
            "text/plain": [
              "Int64Index([1, 3, 4], dtype='int64')"
            ]
          },
          "metadata": {
            "tags": []
          },
          "execution_count": 28
        }
      ]
    },
    {
      "cell_type": "code",
      "metadata": {
        "id": "5qdxqkX9ZWTP",
        "outputId": "0d196baf-2ba4-450b-b017-ebbdb40478ed",
        "colab": {
          "base_uri": "https://localhost:8080/",
          "height": 141
        }
      },
      "source": [
        "dfPhone.iloc[[1,3,4]]"
      ],
      "execution_count": 29,
      "outputs": [
        {
          "output_type": "execute_result",
          "data": {
            "text/html": [
              "<div>\n",
              "<style scoped>\n",
              "    .dataframe tbody tr th:only-of-type {\n",
              "        vertical-align: middle;\n",
              "    }\n",
              "\n",
              "    .dataframe tbody tr th {\n",
              "        vertical-align: top;\n",
              "    }\n",
              "\n",
              "    .dataframe thead th {\n",
              "        text-align: right;\n",
              "    }\n",
              "</style>\n",
              "<table border=\"1\" class=\"dataframe\">\n",
              "  <thead>\n",
              "    <tr style=\"text-align: right;\">\n",
              "      <th></th>\n",
              "      <th>Duration</th>\n",
              "      <th>PhoneIndx</th>\n",
              "      <th>PhoneSymb</th>\n",
              "    </tr>\n",
              "  </thead>\n",
              "  <tbody>\n",
              "    <tr>\n",
              "      <th>1</th>\n",
              "      <td>1194.22</td>\n",
              "      <td>15</td>\n",
              "      <td>unk_S</td>\n",
              "    </tr>\n",
              "    <tr>\n",
              "      <th>3</th>\n",
              "      <td>2027.96</td>\n",
              "      <td>26</td>\n",
              "      <td>sil</td>\n",
              "    </tr>\n",
              "    <tr>\n",
              "      <th>4</th>\n",
              "      <td>336.89</td>\n",
              "      <td>30</td>\n",
              "      <td>sil_S</td>\n",
              "    </tr>\n",
              "  </tbody>\n",
              "</table>\n",
              "</div>"
            ],
            "text/plain": [
              "   Duration  PhoneIndx PhoneSymb\n",
              "1   1194.22         15     unk_S\n",
              "3   2027.96         26       sil\n",
              "4    336.89         30     sil_S"
            ]
          },
          "metadata": {
            "tags": []
          },
          "execution_count": 29
        }
      ]
    },
    {
      "cell_type": "code",
      "metadata": {
        "id": "Iytdm6TUaxPb"
      },
      "source": [
        ""
      ],
      "execution_count": null,
      "outputs": []
    }
  ]
}